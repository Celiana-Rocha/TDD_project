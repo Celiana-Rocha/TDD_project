{
  "nbformat": 4,
  "nbformat_minor": 0,
  "metadata": {
    "colab": {
      "provenance": [],
      "authorship_tag": "ABX9TyPWVa+oXaZhlmBEAaBAMZ4q",
      "include_colab_link": true
    },
    "kernelspec": {
      "name": "python3",
      "display_name": "Python 3"
    },
    "language_info": {
      "name": "python"
    }
  },
  "cells": [
    {
      "cell_type": "markdown",
      "metadata": {
        "id": "view-in-github",
        "colab_type": "text"
      },
      "source": [
        "<a href=\"https://colab.research.google.com/github/Celiana-Rocha/TDD_project/blob/main/teste_dio.ipynb\" target=\"_parent\"><img src=\"https://colab.research.google.com/assets/colab-badge.svg\" alt=\"Open In Colab\"/></a>"
      ]
    },
    {
      "cell_type": "code",
      "execution_count": 1,
      "metadata": {
        "id": "JCZZxQXOzwy3",
        "colab": {
          "base_uri": "https://localhost:8080/"
        },
        "outputId": "411e44a4-ca3e-4b0e-b0c6-a65960b76f77"
      },
      "outputs": [
        {
          "output_type": "stream",
          "name": "stdout",
          "text": [
            "Cloning into 'BairesDev-DIO'...\n",
            "remote: Enumerating objects: 225, done.\u001b[K\n",
            "remote: Counting objects: 100% (225/225), done.\u001b[K\n",
            "remote: Compressing objects: 100% (222/222), done.\u001b[K\n",
            "remote: Total 225 (delta 3), reused 219 (delta 1), pack-reused 0 (from 0)\u001b[K\n",
            "Receiving objects: 100% (225/225), 35.11 MiB | 15.56 MiB/s, done.\n",
            "Resolving deltas: 100% (3/3), done.\n"
          ]
        }
      ],
      "source": [
        "!git clone https://github.com/fenads/BairesDev-DIO.git"
      ]
    },
    {
      "cell_type": "code",
      "source": [
        "%matplotlib inline\n",
        "\n",
        "import os\n",
        "import random\n",
        "import numpy as np\n",
        "import keras\n",
        "import tensorflow as tf\n",
        "import matplotlib.pyplot as plt\n",
        "\n",
        "\n",
        "from matplotlib.pyplot import imshow\n",
        "from keras.preprocessing import image\n",
        "from keras.applications.imagenet_utils import preprocess_input\n",
        "from keras.models import Sequential\n",
        "from keras.layers import Dense, Dropout, Flatten, Activation\n",
        "from keras.layers import Conv2D, MaxPooling2D\n",
        "from keras.models import Model"
      ],
      "metadata": {
        "id": "sHG2xVAez9NE"
      },
      "execution_count": 2,
      "outputs": []
    },
    {
      "cell_type": "code",
      "source": [
        "import os\n",
        "import tensorflow as tf\n",
        "\n",
        "def validate_image(file_path):\n",
        "    try:\n",
        "        img = tf.io.read_file(file_path)\n",
        "        img = tf.image.decode_image(img, channels=3)\n",
        "        return True\n",
        "    except:\n",
        "        return False\n",
        "\n",
        "dataset_path = '/content/BairesDev-DIO/Dataset-Pragas'\n",
        "\n",
        "for root, dirs, files in os.walk(dataset_path):\n",
        "    for file in files:\n",
        "        file_path = os.path.join(root, file)\n",
        "        if file.lower().endswith(('.jpg', '.jpeg', '.png', '.gif', '.bmp')):\n",
        "            if not validate_image(file_path):\n",
        "                print(f\"Removendo arquivo inválido: {file_path}\")\n",
        "                os.remove(file_path)\n",
        "        else:\n",
        "            print(f\"Removendo arquivo não suportado: {file_path}\")\n",
        "            os.remove(file_path)\n",
        "\n",
        ""
      ],
      "metadata": {
        "colab": {
          "base_uri": "https://localhost:8080/"
        },
        "id": "GcyyFlOqanEI",
        "outputId": "f902c7f2-cb7c-49d2-cdfa-971b89d52dcf"
      },
      "execution_count": 4,
      "outputs": [
        {
          "output_type": "stream",
          "name": "stdout",
          "text": [
            "Removendo arquivo inválido: /content/BairesDev-DIO/Dataset-Pragas/MoscaBranca/MoscaBranca85.png\n",
            "Removendo arquivo inválido: /content/BairesDev-DIO/Dataset-Pragas/MoscaBranca/MoscaBranca86.png\n",
            "Removendo arquivo inválido: /content/BairesDev-DIO/Dataset-Pragas/MoscaBranca/MoscaBranca82.png\n",
            "Removendo arquivo inválido: /content/BairesDev-DIO/Dataset-Pragas/MoscaBranca/MoscaBranca89.png\n",
            "Removendo arquivo inválido: /content/BairesDev-DIO/Dataset-Pragas/MoscaBranca/MoscaBranca102.png\n",
            "Removendo arquivo inválido: /content/BairesDev-DIO/Dataset-Pragas/MoscaBranca/MoscaBranca92.png\n",
            "Removendo arquivo inválido: /content/BairesDev-DIO/Dataset-Pragas/Bicudo/bicudo04.png\n",
            "Removendo arquivo inválido: /content/BairesDev-DIO/Dataset-Pragas/Bicudo/bicudo74.png\n",
            "Removendo arquivo inválido: /content/BairesDev-DIO/Dataset-Pragas/Bicudo/bicudo71.png\n",
            "Removendo arquivo inválido: /content/BairesDev-DIO/Dataset-Pragas/Bicudo/bicudo26.png\n",
            "Removendo arquivo inválido: /content/BairesDev-DIO/Dataset-Pragas/Bicudo/bicudo03.png\n",
            "Removendo arquivo inválido: /content/BairesDev-DIO/Dataset-Pragas/Bicudo/bicudo70.png\n",
            "Removendo arquivo inválido: /content/BairesDev-DIO/Dataset-Pragas/Bicudo/bicudo20.png\n",
            "Removendo arquivo inválido: /content/BairesDev-DIO/Dataset-Pragas/Bicudo/bicudo15.png\n"
          ]
        }
      ]
    },
    {
      "cell_type": "code",
      "source": [
        "root = '/content/BairesDev-DIO/Dataset-Pragas/'\n",
        "exclude = ['BACKGROUND_Google', 'Motorbikes', 'airplanes', 'Faces_easy', 'Faces']\n",
        "\n",
        "# Abaixo especifique a taxa de treino e validação\n",
        "# Exemplo 7% = 0.7 e 15% = 0.15\n",
        "train_split, val_split = 0.7, 0.15\n",
        "\n",
        "\n",
        "categories = [x[0] for x in os.walk(root) if x[0]][1:]\n",
        "categories = [c for c in categories if c not in [os.path.join(root, e) for e in exclude]]\n",
        "\n",
        "\n",
        "print(categories)"
      ],
      "metadata": {
        "colab": {
          "base_uri": "https://localhost:8080/"
        },
        "id": "qrG4RwmUb2bB",
        "outputId": "598a97ad-6e66-42ba-db81-2524962f00a2"
      },
      "execution_count": 5,
      "outputs": [
        {
          "output_type": "stream",
          "name": "stdout",
          "text": [
            "['/content/BairesDev-DIO/Dataset-Pragas/MoscaBranca', '/content/BairesDev-DIO/Dataset-Pragas/Bicudo']\n"
          ]
        }
      ]
    },
    {
      "cell_type": "code",
      "source": [],
      "metadata": {
        "id": "3rA306R8cfwn"
      },
      "execution_count": null,
      "outputs": []
    }
  ]
}